{
  "nbformat": 4,
  "nbformat_minor": 0,
  "metadata": {
    "colab": {
      "provenance": [],
      "authorship_tag": "ABX9TyNXpoa88acrpAlczC4370i5",
      "include_colab_link": true
    },
    "kernelspec": {
      "name": "python3",
      "display_name": "Python 3"
    },
    "language_info": {
      "name": "python"
    }
  },
  "cells": [
    {
      "cell_type": "markdown",
      "metadata": {
        "id": "view-in-github",
        "colab_type": "text"
      },
      "source": [
        "<a href=\"https://colab.research.google.com/github/TinizaraRodriguez/_easyOCR_paddleOCR/blob/main/easyOCR%26PaddleOCR_mejoraCalidad.ipynb\" target=\"_parent\"><img src=\"https://colab.research.google.com/assets/colab-badge.svg\" alt=\"Open In Colab\"/></a>"
      ]
    },
    {
      "cell_type": "code",
      "execution_count": null,
      "metadata": {
        "id": "WMJkClcTVJLC"
      },
      "outputs": [],
      "source": [
        "!pip install easyocr\n",
        "!pip install paddlepaddle paddleocr\n",
        "!pip install opencv-python\n",
        "!pip install paddlepaddle-gpu\n",
        "!pip install paddleocr\n",
        "!pip install imutils"
      ]
    },
    {
      "cell_type": "code",
      "source": [
        "import os\n",
        "import easyocr\n",
        "import cv2\n",
        "from matplotlib import pyplot as plt\n",
        "import numpy as np\n",
        "import re\n",
        "import regex\n",
        "from PIL import Image\n",
        "from google.colab.patches import cv2_imshow"
      ],
      "metadata": {
        "id": "C_qcCkMnVimH"
      },
      "execution_count": null,
      "outputs": []
    },
    {
      "cell_type": "markdown",
      "source": [
        "#EasyOCR"
      ],
      "metadata": {
        "id": "mtW4p1BVYVvk"
      }
    },
    {
      "cell_type": "markdown",
      "source": [
        "Preparacion de EasyOCR cuando solo tenemos una imagen"
      ],
      "metadata": {
        "id": "6cMLvJfZWxK7"
      }
    },
    {
      "cell_type": "code",
      "source": [
        "IMAGE_PATH = '/content/pantalan2.jpeg'\n",
        "reader = easyocr.Reader(['es'])\n",
        "result = reader.readtext(IMAGE_PATH)\n",
        "result"
      ],
      "metadata": {
        "id": "0QfTI-afV959"
      },
      "execution_count": null,
      "outputs": []
    },
    {
      "cell_type": "code",
      "source": [
        "img = cv2.imread(IMAGE_PATH)\n",
        "spacer = 100\n",
        "font = cv2.FONT_HERSHEY_SIMPLEX\n",
        "#matriculas = r'^[0-9]{2}-[A-Z]{2}-[0-9]-[0-9]{1,3}-[0-9]{2}$'\n",
        "\n",
        "for detection in result:\n",
        "  #if re.match(matriculas, detection[1]):\n",
        "    top_left = tuple(map(int, detection[0][0]))\n",
        "    bottom_right = tuple(map(int, detection[0][2]))\n",
        "    text = detection[1]\n",
        "    #new_text = re.sub(r'9', \"a\", text, 1)\n",
        "    img = cv2.rectangle(img,top_left,bottom_right,(0,255,0),3)\n",
        "    img = cv2.putText(img,text,(10,spacer), font, 2,(255,0,0),2,cv2.LINE_AA)\n",
        "    spacer+=30\n",
        "plt.figure(figsize=(15,15))\n",
        "plt.imshow(img)\n",
        "plt.show()\n",
        ""
      ],
      "metadata": {
        "id": "s3qrtxYkW31q"
      },
      "execution_count": null,
      "outputs": []
    },
    {
      "cell_type": "markdown",
      "source": [
        "Ejecucion de EasyOCR - leyendo desde una carpeta e iterando sobre los elementos"
      ],
      "metadata": {
        "id": "tMYxl2C5WODv"
      }
    },
    {
      "cell_type": "code",
      "source": [
        "reader = easyocr.Reader(['es'])\n",
        "\n",
        "# Tamaño mínimo de las imágenes\n",
        "min_desired_size = (200, 50)\n",
        "\n",
        "# Carpeta de entrada que contiene las imágenes\n",
        "input_folder = '/content/inputs'\n",
        "\n",
        "# Carpeta donde se guardarán los resultados\n",
        "output_folder = '/content/outputs'\n",
        "\n",
        "# Verificar si la carpeta de resultados existe, si no, créala\n",
        "if not os.path.exists(output_folder):\n",
        "    os.makedirs(output_folder)\n",
        "\n",
        "# Listar los archivos en la carpeta de entrada\n",
        "image_files = [os.path.join(input_folder, filename) for filename in os.listdir(input_folder) if filename.endswith(('.jpeg', '.jpg', '.png'))]\n",
        "\n",
        "# Contador para el nombre de las imágenes\n",
        "image_count = 1\n",
        "\n",
        "# Iterar sobre los archivos de la carpeta de entrada\n",
        "for image_path in image_files:\n",
        "    # Cargar la imagen\n",
        "    img = cv2.imread(image_path)\n",
        "\n",
        "    # Verificar si la carga se ha realizado correctamente\n",
        "    if img is None:\n",
        "        print(f\"Error: No se pudo cargar la imagen {image_path}\")\n",
        "        continue\n",
        "\n",
        "    # Detección del texto\n",
        "    results = reader.readtext(img)\n",
        "\n",
        "    # Iterar sobre los resultados\n",
        "    for (bbox, text, prob) in results:\n",
        "        # Obtener las coordenadas\n",
        "        top_left, top_right, bottom_right, bottom_left = bbox\n",
        "\n",
        "        # Convertir las coordenadas a enteros\n",
        "        top_left = tuple(map(int, top_left))\n",
        "        bottom_right = tuple(map(int, bottom_right))\n",
        "\n",
        "        # Dibujar el recuadro\n",
        "        cv2.rectangle(img, top_left, bottom_right, (0, 255, 0), 2)\n",
        "\n",
        "        # Recortar la región\n",
        "        text_region = img[top_left[1]:bottom_right[1], top_left[0]:bottom_right[0]]\n",
        "\n",
        "        if not text_region is None and not text_region.size == 0:\n",
        "            # Verificar si el tamaño es superior o igual al mínimo\n",
        "            if text_region.shape[0] < min_desired_size[1] or text_region.shape[1] < min_desired_size[0]:\n",
        "                # Redimensionar la región al tamaño dado\n",
        "                text_region = cv2.resize(text_region, min_desired_size)\n",
        "\n",
        "            # Guardar los recortes en la carpeta de salida con el nombre indicado\n",
        "            output_filename = os.path.join(output_folder, f'output-{image_count}.jpg')\n",
        "            cv2.imwrite(output_filename, text_region)\n",
        "            image_count += 1\n",
        "\n",
        "    # Mostrar la imagen final con los recuadros\n",
        "    cv2_imshow(img)\n",
        "\n",
        "# Esperar a que el usuario cierre las ventanas\n",
        "cv2.waitKey(0)\n",
        "cv2.destroyAllWindows()\n"
      ],
      "metadata": {
        "id": "a16ol60RWORS"
      },
      "execution_count": null,
      "outputs": []
    },
    {
      "cell_type": "markdown",
      "source": [
        "#Mejora de la calidad de la imagen"
      ],
      "metadata": {
        "id": "qutcGNDmYiDT"
      }
    },
    {
      "cell_type": "markdown",
      "source": [
        "Aplicamos escala de grises y contraste a las imagenes y las guardamos en una carpeta nueva que se usara como input para el paddleocr"
      ],
      "metadata": {
        "id": "HT8thU6RYqFu"
      }
    },
    {
      "cell_type": "code",
      "source": [
        "# Ruta de la carpeta de imágenes de entrada\n",
        "input_folder = '/content/outputs'\n",
        "\n",
        "# Ruta de la carpeta de imágenes de salida (donde se guardarán las imágenes mejoradas)\n",
        "output_folder = '/content/outputs_improved'\n",
        "\n",
        "# Verifica si la carpeta de salida existe, y si no, créala\n",
        "if not os.path.exists(output_folder):\n",
        "    os.makedirs(output_folder)\n",
        "\n",
        "# Obtener la lista de archivos en la carpeta de entrada\n",
        "image_files = [os.path.join(input_folder, filename) for filename in os.listdir(input_folder) if filename.endswith(('.jpeg', '.jpg', '.png'))]\n",
        "\n",
        "# Función para mejorar la calidad de una imagen\n",
        "def improve_image_quality(image):\n",
        "    # Convertir la imagen a escala de grises\n",
        "    gray_image = cv2.cvtColor(image, cv2.COLOR_BGR2GRAY)\n",
        "\n",
        "    # Aplicar la mejora de contraste\n",
        "    improved_image = cv2.equalizeHist(gray_image)\n",
        "\n",
        "    return improved_image\n",
        "\n",
        "# Procesar cada imagen en la carpeta de entrada\n",
        "for img_path in image_files:\n",
        "    # Cargar la imagen\n",
        "    image = cv2.imread(img_path)\n",
        "\n",
        "    if image is not None:\n",
        "        # Aplicar mejoras de calidad a la imagen\n",
        "        improved_image = improve_image_quality(image)\n",
        "\n",
        "        # Guardar la imagen mejorada en la carpeta de salida\n",
        "        output_path = os.path.join(output_folder, os.path.basename(img_path))\n",
        "        cv2.imwrite(output_path, improved_image)\n",
        "\n",
        "        print(f'Imagen mejorada guardada en: {output_path}')\n",
        "    else:\n",
        "        print(f\"Error: No se pudo cargar la imagen {img_path}\")\n",
        "\n",
        "# Cerrar cualquier ventana abierta de OpenCV\n",
        "cv2.destroyAllWindows()\n"
      ],
      "metadata": {
        "id": "WMqxpkItYf5Y"
      },
      "execution_count": null,
      "outputs": []
    },
    {
      "cell_type": "markdown",
      "source": [
        "#PaddleOCR"
      ],
      "metadata": {
        "id": "Nc3r21hVXq8D"
      }
    },
    {
      "cell_type": "markdown",
      "source": [
        "Evitar dependencias y clonacion del repo"
      ],
      "metadata": {
        "id": "9CBtBJCrYPki"
      }
    },
    {
      "cell_type": "code",
      "source": [
        "!wget http://archive.ubuntu.com/ubuntu/pool/main/o/openssl/libssl1.1_1.1.0g-2ubuntu4_amd64.deb\n",
        "!sudo dpkg -i libssl1.1_1.1.0g-2ubuntu4_amd64.deb"
      ],
      "metadata": {
        "id": "SpDJ7LNuX8YK"
      },
      "execution_count": null,
      "outputs": []
    },
    {
      "cell_type": "code",
      "source": [
        "!git clone https://github.com/PaddlePaddle/PaddleOCR"
      ],
      "metadata": {
        "id": "rkTRuYTuXrSN"
      },
      "execution_count": null,
      "outputs": []
    },
    {
      "cell_type": "markdown",
      "source": [
        "Ejecucion de PaddleOCR pasandole como input la carpeta con los recortes de las imagenes previas deteccion con easyocr"
      ],
      "metadata": {
        "id": "wo9tDlocXf5q"
      }
    },
    {
      "cell_type": "code",
      "source": [
        "from paddleocr import PaddleOCR, draw_ocr\n",
        "import os\n",
        "\n",
        "# Configuración de PaddleOCR\n",
        "ocr = PaddleOCR(lang='es')\n",
        "\n",
        "# Ruta de la carpeta de imágenes\n",
        "input_folder = '/content/outputs_improved'\n",
        "\n",
        "# Obtener la lista de archivos en la carpeta de imágenes\n",
        "image_files = [os.path.join(input_folder, filename) for filename in os.listdir(input_folder) if filename.endswith(('.jpeg', '.jpg', '.png'))]\n",
        "\n",
        "# Procesar cada imagen en la carpeta\n",
        "for img_path in image_files:\n",
        "    # Realizar OCR en la imagen\n",
        "    result = ocr.ocr(img_path, cls=False)\n",
        "\n",
        "    if result:\n",
        "        for idx in range(len(result)):\n",
        "            res = result[idx]\n",
        "            if res is not None:\n",
        "                for line in res:\n",
        "                    print(line)\n",
        "            else:\n",
        "                print(f\"Advertencia: No se detectó texto en la imagen {img_path}\")\n",
        "\n",
        "        # Dibujar los resultados en la imagen original\n",
        "        if result[0]:\n",
        "            image = Image.open(img_path).convert('RGB')\n",
        "            boxes = [line[0] for line in result[0]]\n",
        "            txts = [line[1][0] for line in result[0]]\n",
        "            scores = [line[1][1] for line in result[0]]\n",
        "            im_show = draw_ocr(image, boxes, txts, scores, font_path='/content/PaddleOCR/doc/fonts/simfang.ttf')\n",
        "            im_show = Image.fromarray(im_show)\n",
        "\n",
        "            # Mostrar la imagen\n",
        "            plt.figure(figsize=(20, 20))\n",
        "            plt.imshow(im_show)\n",
        "            plt.show()\n",
        "\n",
        "            # Obtener el nombre original del archivo sin la extensión\n",
        "            file_name_without_extension = os.path.splitext(os.path.basename(img_path))[0]\n",
        "\n",
        "            # Guardar la imagen final con el nombre original más \"output\" como prefijo\n",
        "            output_dir = '/content/outputs_final'\n",
        "            os.makedirs(output_dir, exist_ok=True)\n",
        "            output_path = os.path.join(output_dir, f'output_{file_name_without_extension}.jpg')\n",
        "            im_show.save(output_path)\n",
        "            print(f'Imagen final guardada en: {output_path}')\n",
        "        else:\n",
        "            print(f\"Advertencia: No se encontraron resultados válidos para la imagen {img_path}\")\n",
        "    else:\n",
        "        print(f\"Advertencia: No se encontraron resultados válidos para la imagen {img_path}\")\n"
      ],
      "metadata": {
        "id": "yiKvXTYfXe14"
      },
      "execution_count": null,
      "outputs": []
    }
  ]
}